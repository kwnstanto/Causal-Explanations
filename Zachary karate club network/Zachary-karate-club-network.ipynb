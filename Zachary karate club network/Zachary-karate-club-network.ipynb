{
 "cells": [
  {
   "cell_type": "code",
   "execution_count": 1,
   "id": "fbc669c6",
   "metadata": {},
   "outputs": [],
   "source": [
    "import pandas as pd\n",
    "import matplotlib.pyplot as plt\n",
    "import json\n",
    "import csv\n",
    "import networkx as nx\n",
    "import time\n",
    "from datetime import timedelta\n",
    "import community\n",
    "from copy import deepcopy\n",
    "from community import community_louvain\n",
    "import matplotlib.cm as cm"
   ]
  },
  {
   "cell_type": "code",
   "execution_count": 38,
   "id": "6d47cf03",
   "metadata": {},
   "outputs": [
    {
     "data": {
      "text/html": [
       "<div>\n",
       "<style scoped>\n",
       "    .dataframe tbody tr th:only-of-type {\n",
       "        vertical-align: middle;\n",
       "    }\n",
       "\n",
       "    .dataframe tbody tr th {\n",
       "        vertical-align: top;\n",
       "    }\n",
       "\n",
       "    .dataframe thead th {\n",
       "        text-align: right;\n",
       "    }\n",
       "</style>\n",
       "<table border=\"1\" class=\"dataframe\">\n",
       "  <thead>\n",
       "    <tr style=\"text-align: right;\">\n",
       "      <th></th>\n",
       "      <th>% sym weighted</th>\n",
       "    </tr>\n",
       "  </thead>\n",
       "  <tbody>\n",
       "    <tr>\n",
       "      <th>1</th>\n",
       "      <td>1 2 4</td>\n",
       "    </tr>\n",
       "    <tr>\n",
       "      <th>2</th>\n",
       "      <td>1 3 5</td>\n",
       "    </tr>\n",
       "    <tr>\n",
       "      <th>3</th>\n",
       "      <td>1 4 3</td>\n",
       "    </tr>\n",
       "    <tr>\n",
       "      <th>4</th>\n",
       "      <td>1 5 3</td>\n",
       "    </tr>\n",
       "    <tr>\n",
       "      <th>5</th>\n",
       "      <td>1 6 3</td>\n",
       "    </tr>\n",
       "    <tr>\n",
       "      <th>...</th>\n",
       "      <td>...</td>\n",
       "    </tr>\n",
       "    <tr>\n",
       "      <th>74</th>\n",
       "      <td>31 33 3</td>\n",
       "    </tr>\n",
       "    <tr>\n",
       "      <th>75</th>\n",
       "      <td>31 34 3</td>\n",
       "    </tr>\n",
       "    <tr>\n",
       "      <th>76</th>\n",
       "      <td>32 33 4</td>\n",
       "    </tr>\n",
       "    <tr>\n",
       "      <th>77</th>\n",
       "      <td>32 34 4</td>\n",
       "    </tr>\n",
       "    <tr>\n",
       "      <th>78</th>\n",
       "      <td>33 34 5</td>\n",
       "    </tr>\n",
       "  </tbody>\n",
       "</table>\n",
       "<p>78 rows × 1 columns</p>\n",
       "</div>"
      ],
      "text/plain": [
       "   % sym weighted\n",
       "1           1 2 4\n",
       "2           1 3 5\n",
       "3           1 4 3\n",
       "4           1 5 3\n",
       "5           1 6 3\n",
       "..            ...\n",
       "74        31 33 3\n",
       "75        31 34 3\n",
       "76        32 33 4\n",
       "77        32 34 4\n",
       "78        33 34 5\n",
       "\n",
       "[78 rows x 1 columns]"
      ]
     },
     "execution_count": 38,
     "metadata": {},
     "output_type": "execute_result"
    }
   ],
   "source": [
    "df=pd.read_csv(r'out.ucidata-zachary')\n",
    "df.drop([0],inplace=True)\n",
    "df"
   ]
  },
  {
   "cell_type": "code",
   "execution_count": 3,
   "id": "9f8809c5",
   "metadata": {},
   "outputs": [
    {
     "data": {
      "text/html": [
       "<div>\n",
       "<style scoped>\n",
       "    .dataframe tbody tr th:only-of-type {\n",
       "        vertical-align: middle;\n",
       "    }\n",
       "\n",
       "    .dataframe tbody tr th {\n",
       "        vertical-align: top;\n",
       "    }\n",
       "\n",
       "    .dataframe thead th {\n",
       "        text-align: right;\n",
       "    }\n",
       "</style>\n",
       "<table border=\"1\" class=\"dataframe\">\n",
       "  <thead>\n",
       "    <tr style=\"text-align: right;\">\n",
       "      <th></th>\n",
       "      <th>% sym weighted</th>\n",
       "    </tr>\n",
       "  </thead>\n",
       "  <tbody>\n",
       "    <tr>\n",
       "      <th>1</th>\n",
       "      <td>[1, 2, 4]</td>\n",
       "    </tr>\n",
       "    <tr>\n",
       "      <th>2</th>\n",
       "      <td>[1, 3, 5]</td>\n",
       "    </tr>\n",
       "    <tr>\n",
       "      <th>3</th>\n",
       "      <td>[1, 4, 3]</td>\n",
       "    </tr>\n",
       "    <tr>\n",
       "      <th>4</th>\n",
       "      <td>[1, 5, 3]</td>\n",
       "    </tr>\n",
       "    <tr>\n",
       "      <th>5</th>\n",
       "      <td>[1, 6, 3]</td>\n",
       "    </tr>\n",
       "    <tr>\n",
       "      <th>...</th>\n",
       "      <td>...</td>\n",
       "    </tr>\n",
       "    <tr>\n",
       "      <th>74</th>\n",
       "      <td>[31, 33, 3]</td>\n",
       "    </tr>\n",
       "    <tr>\n",
       "      <th>75</th>\n",
       "      <td>[31, 34, 3]</td>\n",
       "    </tr>\n",
       "    <tr>\n",
       "      <th>76</th>\n",
       "      <td>[32, 33, 4]</td>\n",
       "    </tr>\n",
       "    <tr>\n",
       "      <th>77</th>\n",
       "      <td>[32, 34, 4]</td>\n",
       "    </tr>\n",
       "    <tr>\n",
       "      <th>78</th>\n",
       "      <td>[33, 34, 5]</td>\n",
       "    </tr>\n",
       "  </tbody>\n",
       "</table>\n",
       "<p>78 rows × 1 columns</p>\n",
       "</div>"
      ],
      "text/plain": [
       "   % sym weighted\n",
       "1       [1, 2, 4]\n",
       "2       [1, 3, 5]\n",
       "3       [1, 4, 3]\n",
       "4       [1, 5, 3]\n",
       "5       [1, 6, 3]\n",
       "..            ...\n",
       "74    [31, 33, 3]\n",
       "75    [31, 34, 3]\n",
       "76    [32, 33, 4]\n",
       "77    [32, 34, 4]\n",
       "78    [33, 34, 5]\n",
       "\n",
       "[78 rows x 1 columns]"
      ]
     },
     "execution_count": 3,
     "metadata": {},
     "output_type": "execute_result"
    }
   ],
   "source": [
    "df['% sym weighted']=df['% sym weighted'].str.split(' ')\n",
    "df"
   ]
  },
  {
   "cell_type": "code",
   "execution_count": 4,
   "id": "da3796d4",
   "metadata": {},
   "outputs": [
    {
     "data": {
      "text/html": [
       "<div>\n",
       "<style scoped>\n",
       "    .dataframe tbody tr th:only-of-type {\n",
       "        vertical-align: middle;\n",
       "    }\n",
       "\n",
       "    .dataframe tbody tr th {\n",
       "        vertical-align: top;\n",
       "    }\n",
       "\n",
       "    .dataframe thead th {\n",
       "        text-align: right;\n",
       "    }\n",
       "</style>\n",
       "<table border=\"1\" class=\"dataframe\">\n",
       "  <thead>\n",
       "    <tr style=\"text-align: right;\">\n",
       "      <th></th>\n",
       "      <th>% sym weighted</th>\n",
       "    </tr>\n",
       "  </thead>\n",
       "  <tbody>\n",
       "    <tr>\n",
       "      <th>1</th>\n",
       "      <td>1 2 0.57143</td>\n",
       "    </tr>\n",
       "    <tr>\n",
       "      <th>2</th>\n",
       "      <td>1 3 0.71429</td>\n",
       "    </tr>\n",
       "    <tr>\n",
       "      <th>3</th>\n",
       "      <td>1 4 0.42857</td>\n",
       "    </tr>\n",
       "    <tr>\n",
       "      <th>4</th>\n",
       "      <td>1 5 0.42857</td>\n",
       "    </tr>\n",
       "    <tr>\n",
       "      <th>5</th>\n",
       "      <td>1 6 0.42857</td>\n",
       "    </tr>\n",
       "    <tr>\n",
       "      <th>...</th>\n",
       "      <td>...</td>\n",
       "    </tr>\n",
       "    <tr>\n",
       "      <th>74</th>\n",
       "      <td>31 33 0.42857</td>\n",
       "    </tr>\n",
       "    <tr>\n",
       "      <th>75</th>\n",
       "      <td>31 34 0.42857</td>\n",
       "    </tr>\n",
       "    <tr>\n",
       "      <th>76</th>\n",
       "      <td>32 33 0.57143</td>\n",
       "    </tr>\n",
       "    <tr>\n",
       "      <th>77</th>\n",
       "      <td>32 34 0.57143</td>\n",
       "    </tr>\n",
       "    <tr>\n",
       "      <th>78</th>\n",
       "      <td>33 34 0.71429</td>\n",
       "    </tr>\n",
       "  </tbody>\n",
       "</table>\n",
       "<p>78 rows × 1 columns</p>\n",
       "</div>"
      ],
      "text/plain": [
       "   % sym weighted\n",
       "1     1 2 0.57143\n",
       "2     1 3 0.71429\n",
       "3     1 4 0.42857\n",
       "4     1 5 0.42857\n",
       "5     1 6 0.42857\n",
       "..            ...\n",
       "74  31 33 0.42857\n",
       "75  31 34 0.42857\n",
       "76  32 33 0.57143\n",
       "77  32 34 0.57143\n",
       "78  33 34 0.71429\n",
       "\n",
       "[78 rows x 1 columns]"
      ]
     },
     "execution_count": 4,
     "metadata": {},
     "output_type": "execute_result"
    }
   ],
   "source": [
    "## Rescale weigths in [0,1] by dividing with maximum value\n",
    "m=max(int(l[2]) for l in df['% sym weighted'])\n",
    "for j in range(1,len(df['% sym weighted'])+1):\n",
    "    df['% sym weighted'][j][2]=int(df['% sym weighted'][j][2])/m\n",
    "    df['% sym weighted'][j][2]=round(df['% sym weighted'][j][2],5)\n",
    "    df['% sym weighted'][j][2]=str(df['% sym weighted'][j][2])\n",
    "    df['% sym weighted'][j]=' '.join(df['% sym weighted'][j])\n",
    "df"
   ]
  },
  {
   "cell_type": "code",
   "execution_count": 5,
   "id": "33daf6cd",
   "metadata": {},
   "outputs": [],
   "source": [
    "## save csv locally\n",
    "df.to_csv(r'out.ucidata-zachary(rescaled_weights).txt', header=None, index=None, quoting=csv.QUOTE_NONE, escapechar=' ')"
   ]
  },
  {
   "cell_type": "code",
   "execution_count": 6,
   "id": "bf346f2e",
   "metadata": {},
   "outputs": [],
   "source": [
    "## create graph with the rescaled weights with Networkx\n",
    "Data=open(r'out.ucidata-zachary(rescaled_weights).txt', \"r\")\n",
    "Graphtype=nx.Graph()\n",
    "G=nx.read_weighted_edgelist(Data,create_using=Graphtype)"
   ]
  },
  {
   "cell_type": "code",
   "execution_count": 7,
   "id": "6fbf610d",
   "metadata": {},
   "outputs": [],
   "source": [
    "## create file for Gephi\n",
    "nx.write_gexf(G, r'out.ucidata-zachary.gexf')"
   ]
  },
  {
   "cell_type": "code",
   "execution_count": 8,
   "id": "7ba3409d",
   "metadata": {},
   "outputs": [
    {
     "name": "stdout",
     "output_type": "stream",
     "text": [
      "The modularity Q based on networkx is 0.4449036119160915\n"
     ]
    }
   ],
   "source": [
    "## Execute Louvain method to get the communities\n",
    "part=community_louvain.best_partition(G,weight='weight')\n",
    "modularity = community.modularity(part, G, weight='weight')\n",
    "print(\"The modularity Q based on networkx is {}\".format(modularity))"
   ]
  },
  {
   "cell_type": "code",
   "execution_count": 9,
   "id": "8961fba1",
   "metadata": {},
   "outputs": [
    {
     "data": {
      "image/png": "[encoded data removed]",
      "text/plain": [
       "<Figure size 864x864 with 1 Axes>"
      ]
     },
     "metadata": {},
     "output_type": "display_data"
    }
   ],
   "source": [
    "## plot community structure\n",
    "pos = nx.spring_layout(G)\n",
    "cmap = cm.get_cmap('gist_rainbow', max(part.values()) + 1)\n",
    "plt.figure(figsize=(12,12))\n",
    "nx.draw_networkx_nodes(G, pos, part.keys(), node_size=300,\n",
    "                       cmap=cmap, node_color=list(part.values()))\n",
    "nx.draw_networkx_labels(G, pos)\n",
    "nx.draw_networkx_edges(G, pos, alpha=0.5)\n",
    "plt.draw()"
   ]
  },
  {
   "cell_type": "code",
   "execution_count": 10,
   "id": "9463a61e",
   "metadata": {},
   "outputs": [],
   "source": [
    "## Saves dictionarys to json\n",
    "def save_dict(diction):\n",
    "    json_d=json.dumps(diction)\n",
    "    f=open('Dictionary.json',\"w\")\n",
    "    f.write(json_d)\n",
    "    f.close()"
   ]
  },
  {
   "cell_type": "code",
   "execution_count": 11,
   "id": "451b7a31",
   "metadata": {},
   "outputs": [],
   "source": [
    "## Dictionary with each node's incident edges\n",
    "def conn_edges(lst):\n",
    "    Dict = {}\n",
    "    for i in range(1,35):\n",
    "        Dict[str(i)] = []\n",
    "        for l in lst:   \n",
    "            if int(l[0])==i:\n",
    "                    Dict[str(i)].append(l[1])\n",
    "    return Dict"
   ]
  },
  {
   "cell_type": "code",
   "execution_count": 12,
   "id": "40a8081d",
   "metadata": {},
   "outputs": [],
   "source": [
    "## Fill missing values\n",
    "def misval(dct):\n",
    "    for i in range(1,len(dct)+1):\n",
    "        for j in range(2,len(dct)+1):\n",
    "            if str(j) in dct[str(i)]:\n",
    "                dct[str(j)].append(i)\n",
    "    for key, value in dct.items(): #Convert values to integers\n",
    "        dct[key] = [int(item) for item in value]\n",
    "    return dct"
   ]
  },
  {
   "cell_type": "code",
   "execution_count": 13,
   "id": "5e1aee13",
   "metadata": {},
   "outputs": [
    {
     "data": {
      "text/html": [
       "<div>\n",
       "<style scoped>\n",
       "    .dataframe tbody tr th:only-of-type {\n",
       "        vertical-align: middle;\n",
       "    }\n",
       "\n",
       "    .dataframe tbody tr th {\n",
       "        vertical-align: top;\n",
       "    }\n",
       "\n",
       "    .dataframe thead th {\n",
       "        text-align: right;\n",
       "    }\n",
       "</style>\n",
       "<table border=\"1\" class=\"dataframe\">\n",
       "  <thead>\n",
       "    <tr style=\"text-align: right;\">\n",
       "      <th></th>\n",
       "      <th>% sym weighted</th>\n",
       "    </tr>\n",
       "  </thead>\n",
       "  <tbody>\n",
       "    <tr>\n",
       "      <th>1</th>\n",
       "      <td>[1, 2, 0.57143]</td>\n",
       "    </tr>\n",
       "    <tr>\n",
       "      <th>2</th>\n",
       "      <td>[1, 3, 0.71429]</td>\n",
       "    </tr>\n",
       "    <tr>\n",
       "      <th>3</th>\n",
       "      <td>[1, 4, 0.42857]</td>\n",
       "    </tr>\n",
       "    <tr>\n",
       "      <th>4</th>\n",
       "      <td>[1, 5, 0.42857]</td>\n",
       "    </tr>\n",
       "    <tr>\n",
       "      <th>5</th>\n",
       "      <td>[1, 6, 0.42857]</td>\n",
       "    </tr>\n",
       "    <tr>\n",
       "      <th>...</th>\n",
       "      <td>...</td>\n",
       "    </tr>\n",
       "    <tr>\n",
       "      <th>74</th>\n",
       "      <td>[31, 33, 0.42857]</td>\n",
       "    </tr>\n",
       "    <tr>\n",
       "      <th>75</th>\n",
       "      <td>[31, 34, 0.42857]</td>\n",
       "    </tr>\n",
       "    <tr>\n",
       "      <th>76</th>\n",
       "      <td>[32, 33, 0.57143]</td>\n",
       "    </tr>\n",
       "    <tr>\n",
       "      <th>77</th>\n",
       "      <td>[32, 34, 0.57143]</td>\n",
       "    </tr>\n",
       "    <tr>\n",
       "      <th>78</th>\n",
       "      <td>[33, 34, 0.71429]</td>\n",
       "    </tr>\n",
       "  </tbody>\n",
       "</table>\n",
       "<p>78 rows × 1 columns</p>\n",
       "</div>"
      ],
      "text/plain": [
       "       % sym weighted\n",
       "1     [1, 2, 0.57143]\n",
       "2     [1, 3, 0.71429]\n",
       "3     [1, 4, 0.42857]\n",
       "4     [1, 5, 0.42857]\n",
       "5     [1, 6, 0.42857]\n",
       "..                ...\n",
       "74  [31, 33, 0.42857]\n",
       "75  [31, 34, 0.42857]\n",
       "76  [32, 33, 0.57143]\n",
       "77  [32, 34, 0.57143]\n",
       "78  [33, 34, 0.71429]\n",
       "\n",
       "[78 rows x 1 columns]"
      ]
     },
     "execution_count": 13,
     "metadata": {},
     "output_type": "execute_result"
    }
   ],
   "source": [
    "df['% sym weighted']=df['% sym weighted'].str.split(' ')\n",
    "df"
   ]
  },
  {
   "cell_type": "code",
   "execution_count": 14,
   "id": "fe17b753",
   "metadata": {},
   "outputs": [
    {
     "data": {
      "text/plain": [
       "{'1': [2, 3, 4, 5, 6, 7, 8, 9, 11, 12, 13, 14, 18, 20, 22, 32],\n",
       " '2': [3, 4, 8, 14, 18, 20, 22, 31, 1],\n",
       " '3': [4, 8, 9, 10, 14, 28, 29, 33, 1, 2],\n",
       " '4': [8, 13, 14, 1, 2, 3],\n",
       " '5': [7, 11, 1],\n",
       " '6': [7, 11, 17, 1],\n",
       " '7': [17, 1, 5, 6],\n",
       " '8': [1, 2, 3, 4],\n",
       " '9': [31, 33, 34, 1, 3],\n",
       " '10': [34, 3],\n",
       " '11': [1, 5, 6],\n",
       " '12': [1],\n",
       " '13': [1, 4],\n",
       " '14': [34, 1, 2, 3, 4],\n",
       " '15': [33, 34],\n",
       " '16': [33, 34],\n",
       " '17': [6, 7],\n",
       " '18': [1, 2],\n",
       " '19': [33, 34],\n",
       " '20': [34, 1, 2],\n",
       " '21': [33, 34],\n",
       " '22': [1, 2],\n",
       " '23': [33, 34],\n",
       " '24': [26, 28, 30, 33, 34],\n",
       " '25': [26, 28, 32],\n",
       " '26': [32, 24, 25],\n",
       " '27': [30, 34],\n",
       " '28': [34, 3, 24, 25],\n",
       " '29': [32, 34, 3],\n",
       " '30': [33, 34, 24, 27],\n",
       " '31': [33, 34, 2, 9],\n",
       " '32': [33, 34, 1, 25, 26, 29],\n",
       " '33': [34, 3, 9, 15, 16, 19, 21, 23, 24, 30, 31, 32],\n",
       " '34': [9, 10, 14, 15, 16, 19, 20, 21, 23, 24, 27, 28, 29, 30, 31, 32, 33]}"
      ]
     },
     "execution_count": 14,
     "metadata": {},
     "output_type": "execute_result"
    }
   ],
   "source": [
    "## neighbors of each node\n",
    "All_edges=conn_edges(df['% sym weighted'])\n",
    "All_edges=misval(All_edges)\n",
    "All_edges"
   ]
  },
  {
   "cell_type": "code",
   "execution_count": 15,
   "id": "5f4ff2bb",
   "metadata": {},
   "outputs": [],
   "source": [
    "save_dict(All_edges) ## save dictionary of neighbors"
   ]
  },
  {
   "cell_type": "code",
   "execution_count": 16,
   "id": "38c603bc",
   "metadata": {},
   "outputs": [],
   "source": [
    "save_dict(part) ## save dictionary of community partition"
   ]
  },
  {
   "cell_type": "code",
   "execution_count": 17,
   "id": "80c0c5e4",
   "metadata": {},
   "outputs": [],
   "source": [
    "## find the Endogenous Ee and Exogenous Ex sets\n",
    "def endog(lst):\n",
    "    Dict_1 = {}\n",
    "    Dict_2 = {}\n",
    "    for i in range(1,35):\n",
    "        Dict_1[str(i)] = []\n",
    "        Dict_2[str(i)] = []\n",
    "        for l in lst:   \n",
    "            if int(l[0])==i:\n",
    "                if part[(l[1])]==part[l[0]]:\n",
    "                    Dict_1[str(i)].append(l[1])\n",
    "            else:\n",
    "                Dict_2[str(i)].append(l[1])\n",
    "    return Dict_1,Dict_2"
   ]
  },
  {
   "cell_type": "code",
   "execution_count": 18,
   "id": "67330bdb",
   "metadata": {},
   "outputs": [
    {
     "data": {
      "text/plain": [
       "{'1': [2, 3, 4, 8, 12, 13, 14, 18, 20, 22],\n",
       " '2': [3, 4, 8, 14, 18, 20, 22, 1],\n",
       " '3': [4, 8, 14, 1, 2],\n",
       " '4': [8, 13, 14, 1, 2, 3],\n",
       " '5': [7, 11],\n",
       " '6': [7, 11, 17],\n",
       " '7': [17, 5, 6],\n",
       " '8': [1, 2, 3, 4],\n",
       " '9': [31, 33, 34],\n",
       " '10': [34],\n",
       " '11': [5, 6],\n",
       " '12': [1],\n",
       " '13': [1, 4],\n",
       " '14': [1, 2, 3, 4],\n",
       " '15': [33, 34],\n",
       " '16': [33, 34],\n",
       " '17': [6, 7],\n",
       " '18': [1, 2],\n",
       " '19': [33, 34],\n",
       " '20': [1, 2],\n",
       " '21': [33, 34],\n",
       " '22': [1, 2],\n",
       " '23': [33, 34],\n",
       " '24': [26, 28],\n",
       " '25': [26, 28, 32],\n",
       " '26': [32, 24, 25],\n",
       " '27': [30, 34],\n",
       " '28': [24, 25],\n",
       " '29': [32],\n",
       " '30': [33, 34, 27],\n",
       " '31': [33, 34, 9],\n",
       " '32': [25, 26, 29],\n",
       " '33': [34, 9, 15, 16, 19, 21, 23, 30, 31],\n",
       " '34': [9, 10, 15, 16, 19, 21, 23, 27, 30, 31, 33]}"
      ]
     },
     "execution_count": 18,
     "metadata": {},
     "output_type": "execute_result"
    }
   ],
   "source": [
    "E_e,E_x=endog(df['% sym weighted'])\n",
    "E_e=misval(E_e)\n",
    "E_e"
   ]
  },
  {
   "cell_type": "code",
   "execution_count": 19,
   "id": "c31c8a4a",
   "metadata": {},
   "outputs": [],
   "source": [
    "save_dict(E_e) ## save dictionary of Enogenous set"
   ]
  },
  {
   "cell_type": "code",
   "execution_count": 20,
   "id": "a285cc75",
   "metadata": {},
   "outputs": [],
   "source": [
    "## create dictionary for each node, with the weights of each endogenous edge\n",
    "def dictweights(dct,lst):\n",
    "    w={}\n",
    "    for i in range(1,35):\n",
    "        w[str(i)] = {}\n",
    "        for j in range(1,len(lst)+1):\n",
    "            for values in dct[str(i)]:\n",
    "                if i<values:\n",
    "                    if int(lst[j][0])==i:\n",
    "                        if values==int(lst[j][1]):\n",
    "                            w[str(i)].update({values:float(lst[j][2])})\n",
    "                else:\n",
    "                    if int(lst[j][0])==values:\n",
    "                        if i==int(lst[j][1]):\n",
    "                            w[str(i)].update({values:float(lst[j][2])})\n",
    "    return w"
   ]
  },
  {
   "cell_type": "code",
   "execution_count": 21,
   "id": "9da8e4a8",
   "metadata": {},
   "outputs": [
    {
     "data": {
      "text/plain": [
       "{'1': {2: 0.57143,\n",
       "  3: 0.71429,\n",
       "  4: 0.42857,\n",
       "  8: 0.28571,\n",
       "  12: 0.42857,\n",
       "  13: 0.14286,\n",
       "  14: 0.42857,\n",
       "  18: 0.28571,\n",
       "  20: 0.28571,\n",
       "  22: 0.28571},\n",
       " '2': {1: 0.57143,\n",
       "  3: 0.85714,\n",
       "  4: 0.42857,\n",
       "  8: 0.57143,\n",
       "  14: 0.71429,\n",
       "  18: 0.14286,\n",
       "  20: 0.28571,\n",
       "  22: 0.28571},\n",
       " '3': {1: 0.71429, 2: 0.85714, 4: 0.42857, 8: 0.57143, 14: 0.42857},\n",
       " '4': {1: 0.42857,\n",
       "  2: 0.42857,\n",
       "  3: 0.42857,\n",
       "  8: 0.42857,\n",
       "  13: 0.42857,\n",
       "  14: 0.42857},\n",
       " '5': {7: 0.28571, 11: 0.42857},\n",
       " '6': {7: 0.71429, 11: 0.42857, 17: 0.42857},\n",
       " '7': {5: 0.28571, 6: 0.71429, 17: 0.42857},\n",
       " '8': {1: 0.28571, 2: 0.57143, 3: 0.57143, 4: 0.42857},\n",
       " '9': {31: 0.42857, 33: 0.42857, 34: 0.57143},\n",
       " '10': {34: 0.28571},\n",
       " '11': {5: 0.42857, 6: 0.42857},\n",
       " '12': {1: 0.42857},\n",
       " '13': {1: 0.14286, 4: 0.42857},\n",
       " '14': {1: 0.42857, 2: 0.71429, 3: 0.42857, 4: 0.42857},\n",
       " '15': {33: 0.42857, 34: 0.28571},\n",
       " '16': {33: 0.42857, 34: 0.57143},\n",
       " '17': {6: 0.42857, 7: 0.42857},\n",
       " '18': {1: 0.28571, 2: 0.14286},\n",
       " '19': {33: 0.14286, 34: 0.28571},\n",
       " '20': {1: 0.28571, 2: 0.28571},\n",
       " '21': {33: 0.42857, 34: 0.14286},\n",
       " '22': {1: 0.28571, 2: 0.28571},\n",
       " '23': {33: 0.28571, 34: 0.42857},\n",
       " '24': {26: 0.71429, 28: 0.57143},\n",
       " '25': {26: 0.28571, 28: 0.42857, 32: 0.28571},\n",
       " '26': {24: 0.71429, 25: 0.28571, 32: 1.0},\n",
       " '27': {30: 0.57143, 34: 0.28571},\n",
       " '28': {24: 0.57143, 25: 0.42857},\n",
       " '29': {32: 0.28571},\n",
       " '30': {27: 0.57143, 33: 0.57143, 34: 0.28571},\n",
       " '31': {9: 0.42857, 33: 0.42857, 34: 0.42857},\n",
       " '32': {25: 0.28571, 26: 1.0, 29: 0.28571},\n",
       " '33': {9: 0.42857,\n",
       "  15: 0.42857,\n",
       "  16: 0.42857,\n",
       "  19: 0.14286,\n",
       "  21: 0.42857,\n",
       "  23: 0.28571,\n",
       "  30: 0.57143,\n",
       "  31: 0.42857,\n",
       "  34: 0.71429},\n",
       " '34': {9: 0.57143,\n",
       "  10: 0.28571,\n",
       "  15: 0.28571,\n",
       "  16: 0.57143,\n",
       "  19: 0.28571,\n",
       "  21: 0.14286,\n",
       "  23: 0.42857,\n",
       "  27: 0.28571,\n",
       "  30: 0.28571,\n",
       "  31: 0.42857,\n",
       "  33: 0.71429}}"
      ]
     },
     "execution_count": 21,
     "metadata": {},
     "output_type": "execute_result"
    }
   ],
   "source": [
    "weights=dictweights(E_e,df['% sym weighted'])\n",
    "weights"
   ]
  },
  {
   "cell_type": "code",
   "execution_count": 22,
   "id": "1efedf7f",
   "metadata": {},
   "outputs": [],
   "source": [
    "## sort the dictionary of weights and the nodes in Ee, in decreasing order\n",
    "def sortweights(dct_w,dct_E):\n",
    "    sorted_dct_w={}\n",
    "    for i in range (1,len(dct_w)+1):\n",
    "        sorted_dct_w[i]=sorted(dct_w[str(i)].items(), key=lambda x:x[1], reverse=True)\n",
    "        dct_w[str(i)]=dict(sorted_dct_w[i])\n",
    "        dct_E[str(i)]=list(dct_w[str(i)].keys())\n",
    "    return dct_w,dct_E"
   ]
  },
  {
   "cell_type": "code",
   "execution_count": 23,
   "id": "81c6300d",
   "metadata": {},
   "outputs": [],
   "source": [
    "save_dict(weights) ## save dictionary of weights"
   ]
  },
  {
   "cell_type": "code",
   "execution_count": 24,
   "id": "fbb085ad",
   "metadata": {},
   "outputs": [
    {
     "data": {
      "text/plain": [
       "({'1': {3: 0.71429,\n",
       "   2: 0.57143,\n",
       "   4: 0.42857,\n",
       "   12: 0.42857,\n",
       "   14: 0.42857,\n",
       "   8: 0.28571,\n",
       "   18: 0.28571,\n",
       "   20: 0.28571,\n",
       "   22: 0.28571,\n",
       "   13: 0.14286},\n",
       "  '2': {3: 0.85714,\n",
       "   14: 0.71429,\n",
       "   1: 0.57143,\n",
       "   8: 0.57143,\n",
       "   4: 0.42857,\n",
       "   20: 0.28571,\n",
       "   22: 0.28571,\n",
       "   18: 0.14286},\n",
       "  '3': {2: 0.85714, 1: 0.71429, 8: 0.57143, 4: 0.42857, 14: 0.42857},\n",
       "  '4': {1: 0.42857,\n",
       "   2: 0.42857,\n",
       "   3: 0.42857,\n",
       "   8: 0.42857,\n",
       "   13: 0.42857,\n",
       "   14: 0.42857},\n",
       "  '5': {11: 0.42857, 7: 0.28571},\n",
       "  '6': {7: 0.71429, 11: 0.42857, 17: 0.42857},\n",
       "  '7': {6: 0.71429, 17: 0.42857, 5: 0.28571},\n",
       "  '8': {2: 0.57143, 3: 0.57143, 4: 0.42857, 1: 0.28571},\n",
       "  '9': {34: 0.57143, 31: 0.42857, 33: 0.42857},\n",
       "  '10': {34: 0.28571},\n",
       "  '11': {5: 0.42857, 6: 0.42857},\n",
       "  '12': {1: 0.42857},\n",
       "  '13': {4: 0.42857, 1: 0.14286},\n",
       "  '14': {2: 0.71429, 1: 0.42857, 3: 0.42857, 4: 0.42857},\n",
       "  '15': {33: 0.42857, 34: 0.28571},\n",
       "  '16': {34: 0.57143, 33: 0.42857},\n",
       "  '17': {6: 0.42857, 7: 0.42857},\n",
       "  '18': {1: 0.28571, 2: 0.14286},\n",
       "  '19': {34: 0.28571, 33: 0.14286},\n",
       "  '20': {1: 0.28571, 2: 0.28571},\n",
       "  '21': {33: 0.42857, 34: 0.14286},\n",
       "  '22': {1: 0.28571, 2: 0.28571},\n",
       "  '23': {34: 0.42857, 33: 0.28571},\n",
       "  '24': {26: 0.71429, 28: 0.57143},\n",
       "  '25': {28: 0.42857, 26: 0.28571, 32: 0.28571},\n",
       "  '26': {32: 1.0, 24: 0.71429, 25: 0.28571},\n",
       "  '27': {30: 0.57143, 34: 0.28571},\n",
       "  '28': {24: 0.57143, 25: 0.42857},\n",
       "  '29': {32: 0.28571},\n",
       "  '30': {27: 0.57143, 33: 0.57143, 34: 0.28571},\n",
       "  '31': {9: 0.42857, 33: 0.42857, 34: 0.42857},\n",
       "  '32': {26: 1.0, 25: 0.28571, 29: 0.28571},\n",
       "  '33': {34: 0.71429,\n",
       "   30: 0.57143,\n",
       "   9: 0.42857,\n",
       "   15: 0.42857,\n",
       "   16: 0.42857,\n",
       "   21: 0.42857,\n",
       "   31: 0.42857,\n",
       "   23: 0.28571,\n",
       "   19: 0.14286},\n",
       "  '34': {33: 0.71429,\n",
       "   9: 0.57143,\n",
       "   16: 0.57143,\n",
       "   23: 0.42857,\n",
       "   31: 0.42857,\n",
       "   10: 0.28571,\n",
       "   15: 0.28571,\n",
       "   19: 0.28571,\n",
       "   27: 0.28571,\n",
       "   30: 0.28571,\n",
       "   21: 0.14286}},\n",
       " {'1': [3, 2, 4, 12, 14, 8, 18, 20, 22, 13],\n",
       "  '2': [3, 14, 1, 8, 4, 20, 22, 18],\n",
       "  '3': [2, 1, 8, 4, 14],\n",
       "  '4': [1, 2, 3, 8, 13, 14],\n",
       "  '5': [11, 7],\n",
       "  '6': [7, 11, 17],\n",
       "  '7': [6, 17, 5],\n",
       "  '8': [2, 3, 4, 1],\n",
       "  '9': [34, 31, 33],\n",
       "  '10': [34],\n",
       "  '11': [5, 6],\n",
       "  '12': [1],\n",
       "  '13': [4, 1],\n",
       "  '14': [2, 1, 3, 4],\n",
       "  '15': [33, 34],\n",
       "  '16': [34, 33],\n",
       "  '17': [6, 7],\n",
       "  '18': [1, 2],\n",
       "  '19': [34, 33],\n",
       "  '20': [1, 2],\n",
       "  '21': [33, 34],\n",
       "  '22': [1, 2],\n",
       "  '23': [34, 33],\n",
       "  '24': [26, 28],\n",
       "  '25': [28, 26, 32],\n",
       "  '26': [32, 24, 25],\n",
       "  '27': [30, 34],\n",
       "  '28': [24, 25],\n",
       "  '29': [32],\n",
       "  '30': [27, 33, 34],\n",
       "  '31': [9, 33, 34],\n",
       "  '32': [26, 25, 29],\n",
       "  '33': [34, 30, 9, 15, 16, 21, 31, 23, 19],\n",
       "  '34': [33, 9, 16, 23, 31, 10, 15, 19, 27, 30, 21]})"
      ]
     },
     "execution_count": 24,
     "metadata": {},
     "output_type": "execute_result"
    }
   ],
   "source": [
    "weights=sortweights(weights,E_e)\n",
    "weights"
   ]
  },
  {
   "cell_type": "code",
   "execution_count": 25,
   "id": "b481a8ed",
   "metadata": {},
   "outputs": [
    {
     "data": {
      "text/plain": [
       "{'1': [3, 2, 4, 12, 14, 8, 18, 20, 22, 13],\n",
       " '2': [3, 14, 1, 8, 4, 20, 22, 18],\n",
       " '3': [2, 1, 8, 4, 14],\n",
       " '4': [1, 2, 3, 8, 13, 14],\n",
       " '5': [11, 7],\n",
       " '6': [7, 11, 17],\n",
       " '7': [6, 17, 5],\n",
       " '8': [2, 3, 4, 1],\n",
       " '9': [34, 31, 33],\n",
       " '10': [34],\n",
       " '11': [5, 6],\n",
       " '12': [1],\n",
       " '13': [4, 1],\n",
       " '14': [2, 1, 3, 4],\n",
       " '15': [33, 34],\n",
       " '16': [34, 33],\n",
       " '17': [6, 7],\n",
       " '18': [1, 2],\n",
       " '19': [34, 33],\n",
       " '20': [1, 2],\n",
       " '21': [33, 34],\n",
       " '22': [1, 2],\n",
       " '23': [34, 33],\n",
       " '24': [26, 28],\n",
       " '25': [28, 26, 32],\n",
       " '26': [32, 24, 25],\n",
       " '27': [30, 34],\n",
       " '28': [24, 25],\n",
       " '29': [32],\n",
       " '30': [27, 33, 34],\n",
       " '31': [9, 33, 34],\n",
       " '32': [26, 25, 29],\n",
       " '33': [34, 30, 9, 15, 16, 21, 31, 23, 19],\n",
       " '34': [33, 9, 16, 23, 31, 10, 15, 19, 27, 30, 21]}"
      ]
     },
     "execution_count": 25,
     "metadata": {},
     "output_type": "execute_result"
    }
   ],
   "source": [
    "E_e"
   ]
  },
  {
   "cell_type": "code",
   "execution_count": 26,
   "id": "dc6234a9",
   "metadata": {},
   "outputs": [],
   "source": [
    "save_dict(E_e) ## save the sorted Ee set"
   ]
  },
  {
   "cell_type": "code",
   "execution_count": 27,
   "id": "a4b23d61",
   "metadata": {},
   "outputs": [],
   "source": [
    "def binary_search(Graphhh,node,cause,d_l,d_r,parttt,intervent_set,e):\n",
    "    d_m=(d_l+d_r)/2\n",
    "    Graphhh[str(node)][str(cause)]['weight']=d_m # Intervention\n",
    "    new_part=deepcopy(parttt) # keep the communities of all nodes fixed (we put v in singleton community in def calc_com)\n",
    "    new_part[str(node)]=calc_comm(node,parttt,new_part,All_edges,intervent_set) ## recalculation of communities with our approach\n",
    "    while new_part[str(node)]!=parttt[str(node)]:\n",
    "        if d_r-d_l<=e:\n",
    "            d_m=round(d_m,6)            \n",
    "            owr=round(weights[0][str(node)][cause]-d_m,6)\n",
    "            return owr,d_m\n",
    "        else:\n",
    "            d_l=d_m\n",
    "            return binary_search(Graphhh,node,cause,d_l,d_r,parttt,intervent_set,e)\n",
    "    else:\n",
    "        d_r=d_m\n",
    "        return binary_search(Graphhh,node,cause,d_l,d_r,parttt,intervent_set,e)"
   ]
  },
  {
   "cell_type": "code",
   "execution_count": 28,
   "id": "ee922ff6",
   "metadata": {},
   "outputs": [],
   "source": [
    "def calc_comm(node,partit,n_partit,A_edges,interv_set): ## our approach to recalculate communities after the intervention\n",
    "    max_modul=0\n",
    "    n_A_edges=deepcopy(A_edges[str(node)]) ## create a new set of neighbors\n",
    "    for i in interv_set: ## remove the deleted edges from the copy \n",
    "        n_A_edges.remove(int(i[1]))\n",
    "    n_partit[str(node)]=len(set(val for dic in partit for val in partit.values()))+1 ## put v in a singleton community\n",
    "    singleton_com=n_partit[str(node)] # the singleton community we put v\n",
    "    if len(n_A_edges)==0: # the case were v after the intervention has no neighbors, unary community \n",
    "        best_part=partit[str(node)]\n",
    "        return best_part\n",
    "    else:\n",
    "        lst=[]\n",
    "        for i in n_A_edges:\n",
    "            if i not in lst:\n",
    "                n_partit[str(node)]=partit[str(i)] # put v in partition of neighbor\n",
    "                modularity=community.modularity(n_partit, G, weight='weight') # calculate modularity\n",
    "                if modularity>max_modul: # if modularity is greater than the previous one\n",
    "                    max_modul=modularity # save modularity\n",
    "                    best_part=partit[str(i)] # place v in the community where the modularity is maximized\n",
    "                n_partit[str(node)]=singleton_com # place v back to the singleton community for the next iteration\n",
    "                lst.append(i)\n",
    "    return best_part"
   ]
  },
  {
   "cell_type": "code",
   "execution_count": 29,
   "id": "38a7aac3",
   "metadata": {},
   "outputs": [],
   "source": [
    "def find_causes(Graf,dict_part,dict_endog): ## discover counterfactual causes for every node in network\n",
    "    Dict_counter={} #Dictionary for counterfactuals\n",
    "    Dict_Gamma={} #Dictionary for contingencies\n",
    "    list_causes=[{} for n in range(len(dict_endog)+1)]\n",
    "    for j in range(1,len(dict_endog)+1):\n",
    "        Dict_counter[str(j)]=[]\n",
    "        Dict_Gamma[str(j)]=[]\n",
    "        for i in range(0,len(dict_endog[str(j)])):\n",
    "            ebunch=[(str(j),str(dict_endog[str(j)][i]))] ## node to remove\n",
    "            Graf.remove_edges_from(ebunch) #Intervention\n",
    "            new_partition=deepcopy(dict_part) # keep the communities of all nodes fixed (we put v in singleton in def calc_com)\n",
    "            new_partition[str(j)]=calc_comm(j,dict_part,new_partition,All_edges,ebunch) ## recalculation of communities\n",
    "            if new_partition[str(j)]!=dict_part[str(j)]:\n",
    "                Graf.add_edge(str(j),str(dict_endog[str(j)][i]),weight=weights[0][str(j)][dict_endog[str(j)][i]])\n",
    "                optimal_red,n_weight=binary_search(Graf,j,dict_endog[str(j)][i],0,weights[0][str(j)][dict_endog[str(j)][i]],dict_part,ebunch,0.001)\n",
    "                counterf_cause=dict_endog[str(j)][i] ## \n",
    "                resp=1/(1 + optimal_red) ## calculation of responsibility\n",
    "                Dict_counter[str(j)].append(counterf_cause) # add counterfactual cause to dictionary\n",
    "                list_causes[j]={'Node':j,'Counterfactual cause':dict_endog[str(j)][i],'Binary':dict_endog[str(j)][i],'Old partition':dict_part[str(j)],'New partition':new_partition[str(j)],'Old Weight':weights[0][str(j)][dict_endog[str(j)][i]],'New weight':n_weight,'Weight Reduction':optimal_red,'Responsibility score':resp}\n",
    "                print('For node',j,'a counterfactual cause has been found:',counterf_cause, '. The old weight is=',weights[0][str(j)][counterf_cause],'and the new weight=',n_weight,'.The optimar reduction is=',optimal_red,'and the resposnibility score is ρ =',resp)\n",
    "            else:\n",
    "                Dict_Gamma[str(j)].append(dict_endog[str(j)][i]) ## contingencies\n",
    "            ## Undo the intervention    \n",
    "            new_partition=dict_part\n",
    "            Graf.add_edge(str(j),str(dict_endog[str(j)][i]),weight=weights[0][str(j)][dict_endog[str(j)][i]])\n",
    "    return Dict_counter,Dict_Gamma,list_causes"
   ]
  },
  {
   "cell_type": "code",
   "execution_count": 30,
   "id": "fa5e328f",
   "metadata": {},
   "outputs": [
    {
     "name": "stdout",
     "output_type": "stream",
     "text": [
      "For node 9 a counterfactual cause has been found: 34 . The old weight is= 0.57143 and the new weight= 0.01144 .The optimar reduction is= 0.55999 and the resposnibility score is ρ = 0.6410297501907064\n",
      "For node 10 a counterfactual cause has been found: 34 . The old weight is= 0.28571 and the new weight= 0.285431 .The optimar reduction is= 0.000279 and the resposnibility score is ρ = 0.9997210778192885\n",
      "For node 24 a counterfactual cause has been found: 26 . The old weight is= 0.71429 and the new weight= 0.528393 .The optimar reduction is= 0.185897 and the resposnibility score is ρ = 0.843243553192225\n",
      "For node 24 a counterfactual cause has been found: 28 . The old weight is= 0.57143 and the new weight= 0.385325 .The optimar reduction is= 0.186105 and the resposnibility score is ρ = 0.8430956787130988\n",
      "For node 29 a counterfactual cause has been found: 32 . The old weight is= 0.28571 and the new weight= 0.285431 .The optimar reduction is= 0.000279 and the resposnibility score is ρ = 0.9997210778192885\n",
      "For node 32 a counterfactual cause has been found: 26 . The old weight is= 1.0 and the new weight= 0.08252 .The optimar reduction is= 0.91748 and the resposnibility score is ρ = 0.5215178254792749\n",
      "Execution time: 0:00:00.235002\n"
     ]
    }
   ],
   "source": [
    "start_time = time.time()\n",
    "OurApproach_Counterf_causes,OurApproach_Cont_sets,count_causes=find_causes(G,part,E_e)\n",
    "elapsed=time.time() - start_time\n",
    "elapsed=str(timedelta(seconds=elapsed))\n",
    "print(\"Execution time:\",elapsed)"
   ]
  },
  {
   "cell_type": "code",
   "execution_count": 31,
   "id": "2680d568",
   "metadata": {},
   "outputs": [
    {
     "data": {
      "text/plain": [
       "[{'Node': 9,\n",
       "  'Counterfactual cause': 34,\n",
       "  'Binary': 34,\n",
       "  'Old partition': 3,\n",
       "  'New partition': 0,\n",
       "  'Old Weight': 0.57143,\n",
       "  'New weight': 0.01144,\n",
       "  'Weight Reduction': 0.55999,\n",
       "  'Responsibility score': 0.6410297501907064},\n",
       " {'Node': 10,\n",
       "  'Counterfactual cause': 34,\n",
       "  'Binary': 34,\n",
       "  'Old partition': 3,\n",
       "  'New partition': 0,\n",
       "  'Old Weight': 0.28571,\n",
       "  'New weight': 0.285431,\n",
       "  'Weight Reduction': 0.000279,\n",
       "  'Responsibility score': 0.9997210778192885},\n",
       " {'Node': 24,\n",
       "  'Counterfactual cause': 28,\n",
       "  'Binary': 28,\n",
       "  'Old partition': 1,\n",
       "  'New partition': 3,\n",
       "  'Old Weight': 0.57143,\n",
       "  'New weight': 0.385325,\n",
       "  'Weight Reduction': 0.186105,\n",
       "  'Responsibility score': 0.8430956787130988},\n",
       " {'Node': 29,\n",
       "  'Counterfactual cause': 32,\n",
       "  'Binary': 32,\n",
       "  'Old partition': 1,\n",
       "  'New partition': 3,\n",
       "  'Old Weight': 0.28571,\n",
       "  'New weight': 0.285431,\n",
       "  'Weight Reduction': 0.000279,\n",
       "  'Responsibility score': 0.9997210778192885},\n",
       " {'Node': 32,\n",
       "  'Counterfactual cause': 26,\n",
       "  'Binary': 26,\n",
       "  'Old partition': 1,\n",
       "  'New partition': 3,\n",
       "  'Old Weight': 1.0,\n",
       "  'New weight': 0.08252,\n",
       "  'Weight Reduction': 0.91748,\n",
       "  'Responsibility score': 0.5215178254792749}]"
      ]
     },
     "execution_count": 31,
     "metadata": {},
     "output_type": "execute_result"
    }
   ],
   "source": [
    "count_causes = [item for item in count_causes if item]\n",
    "count_causes"
   ]
  },
  {
   "cell_type": "code",
   "execution_count": 32,
   "id": "397dde46",
   "metadata": {},
   "outputs": [],
   "source": [
    "for i in range(1,len(OurApproach_Counterf_causes)+1):\n",
    "    if len(OurApproach_Counterf_causes[str(i)])==0:\n",
    "        del OurApproach_Counterf_causes[str(i)]\n",
    "    if len(OurApproach_Cont_sets[str(i)])==0:\n",
    "        del OurApproach_Cont_sets[str(i)]"
   ]
  },
  {
   "cell_type": "code",
   "execution_count": 33,
   "id": "443ea91b",
   "metadata": {},
   "outputs": [
    {
     "data": {
      "text/plain": [
       "{'9': [34], '10': [34], '24': [26, 28], '29': [32], '32': [26]}"
      ]
     },
     "execution_count": 33,
     "metadata": {},
     "output_type": "execute_result"
    }
   ],
   "source": [
    "OurApproach_Counterf_causes"
   ]
  },
  {
   "cell_type": "code",
   "execution_count": 34,
   "id": "d073f4aa",
   "metadata": {},
   "outputs": [
    {
     "data": {
      "text/plain": [
       "{'1': [2, 4, 12, 14, 8, 18, 20, 22, 13],\n",
       " '2': [14, 1, 8, 4, 20, 22, 18],\n",
       " '3': [1, 8, 4, 14],\n",
       " '4': [2, 3, 8, 13, 14],\n",
       " '5': [7],\n",
       " '6': [11, 17],\n",
       " '7': [17, 5],\n",
       " '8': [3, 4, 1],\n",
       " '9': [33],\n",
       " '11': [6],\n",
       " '12': [],\n",
       " '13': [1],\n",
       " '14': [1, 3, 4],\n",
       " '15': [34],\n",
       " '16': [33],\n",
       " '17': [7],\n",
       " '18': [2],\n",
       " '19': [33],\n",
       " '20': [2],\n",
       " '21': [34],\n",
       " '22': [2],\n",
       " '23': [33],\n",
       " '25': [26, 32],\n",
       " '26': [24, 25],\n",
       " '27': [34],\n",
       " '28': [25],\n",
       " '30': [33, 34],\n",
       " '31': [33, 34],\n",
       " '32': [29],\n",
       " '33': [30, 9, 15, 16, 21, 31, 23, 19],\n",
       " '34': [9, 16, 23, 31, 10, 15, 19, 27, 30, 21]}"
      ]
     },
     "execution_count": 34,
     "metadata": {},
     "output_type": "execute_result"
    }
   ],
   "source": [
    "## delete first edge e (fixed node)\n",
    "for i in OurApproach_Cont_sets:\n",
    "    del OurApproach_Cont_sets[str(i)][0]\n",
    "OurApproach_Cont_sets"
   ]
  },
  {
   "cell_type": "code",
   "execution_count": 35,
   "id": "d319d486",
   "metadata": {},
   "outputs": [],
   "source": [
    "## Saves dictionarys to json\n",
    "def save_dict(diction):\n",
    "    json_d=json.dumps(diction)\n",
    "    f=open('Dictionary.json',\"w\")\n",
    "    f.write(json_d)\n",
    "    f.close()"
   ]
  },
  {
   "cell_type": "code",
   "execution_count": 36,
   "id": "8cf1bc8c",
   "metadata": {},
   "outputs": [],
   "source": [
    "save_dict(OurApproach_Cont_sets)"
   ]
  },
  {
   "cell_type": "code",
   "execution_count": 37,
   "id": "e5f223d7",
   "metadata": {},
   "outputs": [],
   "source": [
    "save_dict(OurApproach_Counterf_causes)"
   ]
  }
 ],
 "metadata": {
  "kernelspec": {
   "display_name": "Python 3 (ipykernel)",
   "language": "python",
   "name": "python3"
  },
  "language_info": {
   "codemirror_mode": {
    "name": "ipython",
    "version": 3
   },
   "file_extension": ".py",
   "mimetype": "text/x-python",
   "name": "python",
   "nbconvert_exporter": "python",
   "pygments_lexer": "ipython3",
   "version": "3.9.7"
  }
 },
 "nbformat": 4,
 "nbformat_minor": 5
}
